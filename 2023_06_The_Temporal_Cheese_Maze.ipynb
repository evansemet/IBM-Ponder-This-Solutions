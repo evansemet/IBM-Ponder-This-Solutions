{
  "nbformat": 4,
  "nbformat_minor": 0,
  "metadata": {
    "colab": {
      "provenance": [],
      "authorship_tag": "ABX9TyMrIMk8HBdAN4BYxPoCkU5e",
      "include_colab_link": true
    },
    "kernelspec": {
      "name": "python3",
      "display_name": "Python 3"
    },
    "language_info": {
      "name": "python"
    }
  },
  "cells": [
    {
      "cell_type": "markdown",
      "metadata": {
        "id": "view-in-github",
        "colab_type": "text"
      },
      "source": [
        "<a href=\"https://colab.research.google.com/github/evansemet/IBM-Ponder-This-Solutions/blob/main/2023_06_The_Temporal_Cheese_Maze.ipynb\" target=\"_parent\"><img src=\"https://colab.research.google.com/assets/colab-badge.svg\" alt=\"Open In Colab\"/></a>"
      ]
    },
    {
      "cell_type": "markdown",
      "source": [
        "A super intelligent mouse is placed in a three dimensional \"maze\", consisting of a $k\\times k\\times k$ grid, where the mouse is placed at the beginning at (1,1,1) at time $t=1$.\n",
        "\n",
        "Every cell in the maze contains one unit of cheese. The catch: This is **temporal** cheese; it's phasing in and out, and is present only at certain times. If the mouse is at cell (a,b,c) at time t where the cheese is present in the cell, the mouse collects it. Afterwards, the cheese **no longer appears** in that cell!\n",
        "\n",
        "At each time unit, the mouse can either stay in place, or move one step in exactly one direction. The maze has walls allowing only movement right, up, and forward on the X, Y, and Z axes, respectively. For example, if present at (3,5,1) at $t=13$, the possible locations for the mouse at $t=14$ are\n",
        "\n",
        "1. (3,5,1) (\\*\\*waiting\\*\\* in place)\n",
        "\n",
        "2. (4,5,1) (moving \\*\\*right\\*\\* in the X axis)\n",
        "\n",
        "3. (3,6,1) (moving \\*\\*up\\*\\* in the Y axis)\n",
        "\n",
        "4. (3,5,2) (moving \\*\\*forward\\*\\* in the Z axis)\n",
        "\n",
        "We denote the path taken by the mouse by a sequence of letters: 'W', 'R', 'U', and 'F', corresponding to options 1-4 above.\n",
        "\n",
        "At time n, the mouse is removed from the maze and can no longer collect cheese. His goal: To maximize the cheese collected by then.\n",
        "\n",
        "The phases of the cheese are determined by the following linear congruential generator:\n",
        "\n",
        "$f(x) = (ax+c)\\ mod\\ m$\n",
        "\n",
        "Where\n",
        "\n",
        "$a = 1103515245$\n",
        "\n",
        "$c = 12345$\n",
        "\n",
        "$m = 2^{31}$\n",
        "\n",
        "The cheese is present at (a,b,c) at time t if and only if there is a value $0\\le x < n/2$ such that $t=f(a\\cdot b\\cdot c + x)\\ mod\\ n $.\n",
        "\n",
        "For example, when $n=20$ and (a,b,c) = (3,5,1) , the set of values of t where the cheese appears is $\\{1, 3, 4, 5, 6, 7, 8, 9, 10, 12\\}$.\n",
        "\n",
        "For $k=5$ and $n=20$, the maximum amount of cheese obtainable is 10 units, given by the following path:\n",
        "\n",
        "FFRFWFWRRRUUUWWWUWW\n",
        "\n",
        "**Your goal**: Find the maximum amount of cheese obtainable for $k=30$ and $n=100$. Supply your solution as two lines, one with the maximum number of cheese units and the other with the path itself.\n",
        "\n",
        "**A bonus** \"*\" will be given for solving the same problem for $k=50$ and $n=200$, but this time ***allowing** the mouse to move in more possible ways: **left** (L), **down** (D) and **backwards** (B) as well as **wait** (W), **right** (R), **up** (U) and **forward** (F), and **allowing** the mouse to collect the cheese more than once for the same cell, at each time where the cheese is present there."
      ],
      "metadata": {
        "id": "YqNDnLYHUUkD"
      }
    },
    {
      "cell_type": "code",
      "source": [
        "# install necessary packages\n",
        "# pip install is needed for bitarray in Collab\n",
        "!pip install bitarray\n",
        "from bitarray import bitarray\n",
        "import numpy as np\n",
        "from itertools import product\n",
        "from time import time"
      ],
      "metadata": {
        "colab": {
          "base_uri": "https://localhost:8080/"
        },
        "id": "UbS3mYdq_e_t",
        "outputId": "782bc93c-59c4-4b5d-d2ca-99e6e09ccd5a"
      },
      "execution_count": null,
      "outputs": [
        {
          "output_type": "stream",
          "name": "stdout",
          "text": [
            "Looking in indexes: https://pypi.org/simple, https://us-python.pkg.dev/colab-wheels/public/simple/\n",
            "Requirement already satisfied: bitarray in /usr/local/lib/python3.10/dist-packages (2.7.4)\n"
          ]
        }
      ]
    },
    {
      "cell_type": "code",
      "source": [
        "# Given values\n",
        "A = 1103515245\n",
        "C = 12345\n",
        "M = 1 << 31\n",
        "\n",
        "k = 30\n",
        "n = 100"
      ],
      "metadata": {
        "id": "xN7-KM1T_i-W"
      },
      "execution_count": null,
      "outputs": []
    },
    {
      "cell_type": "code",
      "execution_count": null,
      "metadata": {
        "colab": {
          "base_uri": "https://localhost:8080/"
        },
        "id": "fpnTo7nP_dZg",
        "outputId": "391d6064-9546-4906-a583-69a9f82fcebf"
      },
      "outputs": [
        {
          "output_type": "stream",
          "name": "stdout",
          "text": [
            "Setup took 0.507 seconds\n",
            "\n",
            "87\n",
            "\n",
            "Solved in 8.987 seconds\n"
          ]
        }
      ],
      "source": [
        "'''\n",
        "calculates the times when cheese is available at a given coordinate\n",
        "@param a : the x coordinate\n",
        "@param b : the y coordinate\n",
        "@param c : the z coordinate\n",
        "@return a bitarray with 1s corresponding to cheese at index t\n",
        "'''\n",
        "def cheese_phases(a: int, b: int, c: int) -> bitarray:\n",
        "    cheese_times = bitarray('0' * (n+1))\n",
        "    prod_coords = a * b * c\n",
        "\n",
        "    for x in range(n // 2):\n",
        "        cheese_times[((A * (prod_coords + x) + C) % M) % n] = 1\n",
        "\n",
        "    return cheese_times\n",
        "\n",
        "\n",
        "start = time()\n",
        "# set up the DP and maze\n",
        "dp = np.full((k, k, k, n+1), float('-inf'))\n",
        "maze = np.empty((k, k, k), dtype=object)\n",
        "\n",
        "# pre compute all of the phases for each coordinate in the maze\n",
        "for a, b, c in product(range(k), range(k), range(k)):\n",
        "    maze[a][b][c] = cheese_phases(a + 1, b + 1, c + 1)\n",
        "\n",
        "print(f\"Setup took {round(time() - start, 3)} seconds\\n\")\n",
        "\n",
        "'''\n",
        "uses DP to calculate the path that collects the most amnount of cheese\n",
        "@param a : the x coordinate\n",
        "@param b : the y coordinate\n",
        "@param c : the z coordinate\n",
        "@param t : the time\n",
        "@return the maximum amount of cheese that is collectible\n",
        "'''\n",
        "def dfs(a: int, b: int, c: int, t: int) -> int:\n",
        "    if a >= k or b >= k or c >= k or t > n:\n",
        "        return 0\n",
        "\n",
        "    if dp[a][b][c][t] != float('-inf'):\n",
        "        return dp[a][b][c][t]\n",
        "\n",
        "    if maze[a][b][c][t]:\n",
        "        max_cheese = 1 + max(\n",
        "            dfs(a + 1, b, c, t + 1), #R\n",
        "            dfs(a, b + 1, c, t + 1), #U\n",
        "            dfs(a, b, c + 1, t + 1)  #F\n",
        "        )\n",
        "\n",
        "    else:\n",
        "        max_cheese = max(\n",
        "            dfs(a + 1, b, c, t + 1), #R\n",
        "            dfs(a, b + 1, c, t + 1), #U\n",
        "            dfs(a, b, c + 1, t + 1), #F\n",
        "            dfs(a, b, c, t + 1)      #W\n",
        "        )\n",
        "\n",
        "    dp[a][b][c][t] = max_cheese\n",
        "    return int(max_cheese)\n",
        "\n",
        "\n",
        "start = time()\n",
        "print(dfs(0, 0, 0, 1))\n",
        "print(f\"\\nSolved in {round(time() - start, 3)} seconds\")"
      ]
    },
    {
      "cell_type": "code",
      "source": [
        "'''\n",
        "searches over the dynamically stored optimal path to print out the path taken\n",
        "@param a : the x coordinate\n",
        "@param b : the y coordinate\n",
        "@param c : the z coordinate\n",
        "@param t : the time\n",
        "@param total : the total cheese collected\n",
        "@param path : the path taken by the mouse\n",
        "'''\n",
        "def path_search(a: int, b: int, c: int, t: int, total: int, path: str) -> None:\n",
        "    if len(path) == n - 1:\n",
        "        print(total)\n",
        "        print(path)\n",
        "    elif t <= n and a < k and b < k and c < k:\n",
        "        if maze[a][b][c][t]:\n",
        "            if a == k - 1 and b == k - 1 and c == k - 1:\n",
        "                while len(path) < n - 1:\n",
        "                    path += 'W'\n",
        "                print(total + 1)\n",
        "                print(path)\n",
        "            elif t < n:\n",
        "                possibilities = [\n",
        "                    dp[a+1][b][c][t+1] if a+1<k else 0,\n",
        "                    dp[a][b+1][c][t+1] if b+1<k else 0,\n",
        "                    dp[a][b][c+1][t+1] if c+1<k else 0\n",
        "                ]\n",
        "                max_index = np.argmax(possibilities)\n",
        "\n",
        "                if max_index==0: path_search(a + 1, b, c, t + 1, total + 1, path + 'R')\n",
        "                elif max_index==1: path_search(a, b + 1, c, t + 1, total + 1, path + 'U')\n",
        "                else: path_search(a, b, c + 1, t + 1, total + 1, path + 'F')\n",
        "\n",
        "        elif t < n:\n",
        "            possibilities = [\n",
        "                    dp[a+1][b][c][t+1] if a+1<k else 0,\n",
        "                    dp[a][b+1][c][t+1] if b+1<k else 0,\n",
        "                    dp[a][b][c+1][t+1] if c+1<k else 0,\n",
        "                    dp[a][b][c][t+1]\n",
        "            ]\n",
        "            max_index = np.argmax(possibilities)\n",
        "\n",
        "            if max_index==0: path_search(a + 1, b, c, t + 1, total, path + 'R')\n",
        "            elif max_index==1: path_search(a, b + 1, c, t + 1, total, path + 'U')\n",
        "            elif max_index==2: path_search(a, b, c + 1, t + 1, total, path + 'F')\n",
        "            else: path_search(a, b, c, t + 1, total, path + 'W')\n",
        "\n",
        "\n",
        "start = time()\n",
        "path_search(0, 0, 0, 1, 0, '')\n",
        "print(f\"\\nSolved in {round(time() - start, 3)} seconds\")"
      ],
      "metadata": {
        "colab": {
          "base_uri": "https://localhost:8080/"
        },
        "id": "6TiQA9mMReiO",
        "outputId": "58a847cd-9e0b-4df0-9389-720852473a4d"
      },
      "execution_count": null,
      "outputs": [
        {
          "output_type": "stream",
          "name": "stdout",
          "text": [
            "87\n",
            "RRWRWWUUWUFFRWRRRFRWRRRRRUUWRRRRRRFUURUURUUUUUUUUFRRRRRFUUFFFFFFFFFFUUUFFFRUURUFFFUFUFRUUFFFFWWFWWW\n",
            "\n",
            "Solved in 0.002 seconds\n"
          ]
        }
      ]
    },
    {
      "cell_type": "code",
      "source": [
        "# check to make sure length is correct\n",
        "print(len(\"RRWRWWUUWUFFRWRRRFRWRRRRRUUWRRRRRRFUURUURUUUUUUUUFRRRRRFUUFFFFFFFFFFUUUFFFRUURUFFFUFUFRUUFFFFWWFWWW\"))"
      ],
      "metadata": {
        "colab": {
          "base_uri": "https://localhost:8080/"
        },
        "id": "3a0t13jflL2y",
        "outputId": "48396f43-29e2-45b9-d21e-8e0213674625"
      },
      "execution_count": null,
      "outputs": [
        {
          "output_type": "stream",
          "name": "stdout",
          "text": [
            "99\n"
          ]
        }
      ]
    },
    {
      "cell_type": "code",
      "source": [
        "'''\n",
        "Double checks to make sure the path returned gives the max value found\n",
        "@param path : the path that the mouse took\n",
        "@return the amount of cheese collected on the given path\n",
        "'''\n",
        "def recheck(path: str) -> int:\n",
        "    seen = set()\n",
        "    a,b,c = 0,0,0\n",
        "    t,tot = 1,0\n",
        "    if maze[a][b][c][t] and (a,b,c) not in seen:\n",
        "        tot += 1\n",
        "        seen.add((a,b,c))\n",
        "    for ch in path:\n",
        "        if ch=='R': a+=1\n",
        "        elif ch=='U': b+=1\n",
        "        elif ch=='F': c+=1\n",
        "        t += 1\n",
        "        if maze[a][b][c][t] and (a,b,c) not in seen:\n",
        "            tot += 1\n",
        "            seen.add((a,b,c))\n",
        "    return tot\n",
        "\n",
        "\n",
        "recheck(\"RRWRWWUUWUFFRWRRRFRWRRRRRUUWRRRRRRFUURUURUUUUUUUUFRRRRRFUUFFFFFFFFFFUUUFFFRUURUFFFUFUFRUUFFFFWWFWWW\")"
      ],
      "metadata": {
        "colab": {
          "base_uri": "https://localhost:8080/"
        },
        "id": "fPHRet937RID",
        "outputId": "5b8ecb1b-64e9-4078-ed5a-f4b76c8f0533"
      },
      "execution_count": null,
      "outputs": [
        {
          "output_type": "execute_result",
          "data": {
            "text/plain": [
              "87"
            ]
          },
          "metadata": {},
          "execution_count": 41
        }
      ]
    },
    {
      "cell_type": "code",
      "source": [
        "# now we need to change some variables for the bonus version\n",
        "k = 50\n",
        "n = 200"
      ],
      "metadata": {
        "id": "_RV6pHNL89L4"
      },
      "execution_count": null,
      "outputs": []
    },
    {
      "cell_type": "code",
      "source": [
        "'''\n",
        "calculates the times when cheese is available at a given coordinate\n",
        "@param a : the x coordinate\n",
        "@param b : the y coordinate\n",
        "@param c : the z coordinate\n",
        "@return a bitarray with 1s corresponding to cheese at index t\n",
        "'''\n",
        "def cheese_phases(a: int, b: int, c: int) -> bitarray:\n",
        "    cheese_times = bitarray('0' * (n+1))\n",
        "    prod_coords = a * b * c\n",
        "\n",
        "    for x in range(n // 2):\n",
        "        cheese_times[((A * (prod_coords + x) + C) % M) % n] = 1\n",
        "\n",
        "    return cheese_times\n",
        "\n",
        "\n",
        "start = time()\n",
        "# set up the DP and maze\n",
        "dp = np.full((k, k, k, n+1), float('-inf'))\n",
        "maze = np.empty((k, k, k), dtype=object)\n",
        "\n",
        "\n",
        "# pre compute all of the phases for each coordinate in the maze\n",
        "for a, b, c in product(range(k), range(k), range(k)):\n",
        "    maze[a][b][c] = cheese_phases(a + 1, b + 1, c + 1)\n",
        "\n",
        "print(f\"Setup took {round(time() - start, 3)} seconds\\n\")\n",
        "\n",
        "\n",
        "'''\n",
        "uses DP to calculate the path that collects the most amnount of cheese\n",
        "@param a : the x coordinate\n",
        "@param b : the y coordinate\n",
        "@param c : the z coordinate\n",
        "@param t : the time\n",
        "@return the maximum amount of cheese that is collectible\n",
        "'''\n",
        "def dfs_bonus(a: int, b: int, c: int, t: int) -> int:\n",
        "    if a >= k or b >= k or c >= k or t > n or a < 0 or b < 0 or c < 0:\n",
        "        return 0\n",
        "\n",
        "    if dp[a][b][c][t] != float('-inf'):\n",
        "        return dp[a][b][c][t]\n",
        "\n",
        "    max_cheese = maze[a][b][c][t] + max(\n",
        "                dfs(a + 1, b, c, t + 1), #R\n",
        "                dfs(a - 1, b, c, t + 1), #L\n",
        "                dfs(a, b + 1, c, t + 1), #U\n",
        "                dfs(a, b - 1, c, t + 1), #D\n",
        "                dfs(a, b, c + 1, t + 1), #F\n",
        "                dfs(a, b, c - 1, t + 1), #B\n",
        "                dfs(a, b, c, t + 1)      #W\n",
        "    )\n",
        "\n",
        "    dp[a][b][c][t] = max_cheese\n",
        "    return int(max_cheese)\n",
        "\n",
        "\n",
        "start = time()\n",
        "print(dfs_bonus(0, 0, 0, 1))\n",
        "print(f\"\\nSolved in {round(time() - start, 3)} seconds\")"
      ],
      "metadata": {
        "colab": {
          "base_uri": "https://localhost:8080/"
        },
        "id": "Qx6xEt2UEUCi",
        "outputId": "5fa2da99-dac0-4ccd-fac2-197346a84fdc"
      },
      "execution_count": null,
      "outputs": [
        {
          "output_type": "stream",
          "name": "stdout",
          "text": [
            "Setup took 4.423 seconds\n",
            "\n",
            "184\n",
            "\n",
            "Solved in 216.173 seconds\n"
          ]
        }
      ]
    },
    {
      "cell_type": "code",
      "source": [
        "'''\n",
        "searches over the dynamically stored optimal path to print out the path taken\n",
        "@param a : the x coordinate\n",
        "@param b : the y coordinate\n",
        "@param c : the z coordinate\n",
        "@param t : the time\n",
        "@param total : the total cheese collected\n",
        "@param path : the path taken by the mouse\n",
        "'''\n",
        "def path_search(a: int, b: int, c: int, t: int, total: int, path: str) -> None:\n",
        "    if len(path) == n - 1:\n",
        "        print(total)\n",
        "        print(path)\n",
        "\n",
        "    elif t < n and a < k and b < k and c < k and a >= 0 and b >= 0 and c >= 0:\n",
        "\n",
        "        possibilities = [\n",
        "                dp[a+1][b][c][t+1] if a+1<k else 0,\n",
        "                dp[a-1][b][c][t+1] if a>0 else 0,\n",
        "                dp[a][b+1][c][t+1] if b+1<k else 0,\n",
        "                dp[a][b-1][c][t+1] if b>0 else 0,\n",
        "                dp[a][b][c+1][t+1] if c+1<k else 0,\n",
        "                dp[a][b][c-1][t+1] if c>0 else 0,\n",
        "                dp[a][b][c][t+1]\n",
        "        ]\n",
        "\n",
        "        max_index = np.argmax(possibilities)\n",
        "\n",
        "        if max_index==0: path_search(a + 1, b, c, t + 1, total + maze[a][b][c][t], path + 'R')\n",
        "        elif max_index==1: path_search(a - 1, b, c, t + 1, total + maze[a][b][c][t], path + 'L')\n",
        "        elif max_index==2: path_search(a, b + 1, c, t + 1, total + maze[a][b][c][t], path + 'U')\n",
        "        elif max_index==3: path_search(a, b - 1, c, t + 1, total + maze[a][b][c][t], path + 'D')\n",
        "        elif max_index==4: path_search(a, b, c + 1, t + 1, total + maze[a][b][c][t], path + 'F')\n",
        "        elif max_index==5: path_search(a, b, c - 1, t + 1, total + maze[a][b][c][t], path + 'B')\n",
        "        else: path_search(a, b, c, t + 1, total + maze[a][b][c][t], path + 'W')\n",
        "\n",
        "\n",
        "start = time()\n",
        "path_search(0, 0, 0, 1, 0, '')\n",
        "print(f\"\\nSolved in {round(time() - start, 3)} seconds\")"
      ],
      "metadata": {
        "colab": {
          "base_uri": "https://localhost:8080/"
        },
        "id": "qNWZK7wSFPJX",
        "outputId": "a87da5d5-b80a-45fc-df37-944d7d267e67"
      },
      "execution_count": null,
      "outputs": [
        {
          "output_type": "stream",
          "name": "stdout",
          "text": [
            "184\n",
            "RRRRRRRRRRRRURRRRUUFRRRUUUURFBUUBFRFLFLFLFWFBBFWFWUWFDBUDBUWFBBFBBFWFBBFBBFLFWFWFLFWFWULBUWULBFBBFWRWFWFBBFLFDBFDBRWFBBFWFWUWUDDUBBFWUWFWUBBBFLFBBFBBFWFBBFWFWRLBFLFWFWRWFBBFLBRWFBBFLBRLBFDFBBFBBFWFLR\n",
            "\n",
            "Solved in 0.004 seconds\n"
          ]
        }
      ]
    },
    {
      "cell_type": "code",
      "source": [
        "# check to make sure length is correct\n",
        "len(\"RRRRRRRRRRRRURRRRUUFRRRUUUURFBUUBFRFLFLFLFWFBBFWFWUWFDBUDBUWFBBFBBFWFBBFBBFLFWFWFLFWFWULBUWULBFBBFWRWFWFBBFLFDBFDBRWFBBFWFWUWUDDUBBFWUWFWUBBBFLFBBFBBFWFBBFWFWRLBFLFWFWRWFBBFLBRWFBBFLBRLBFDFBBFBBFWFLR\")"
      ],
      "metadata": {
        "colab": {
          "base_uri": "https://localhost:8080/"
        },
        "id": "VaSfQ8wcJA1c",
        "outputId": "df6df497-911b-4583-e028-382b7f1064b3"
      },
      "execution_count": null,
      "outputs": [
        {
          "output_type": "execute_result",
          "data": {
            "text/plain": [
              "199"
            ]
          },
          "metadata": {},
          "execution_count": 83
        }
      ]
    },
    {
      "cell_type": "code",
      "source": [
        "'''\n",
        "Double checks to make sure the path returned gives the max value found\n",
        "@param path : the path that the mouse took\n",
        "@return the amount of cheese collected on the given path\n",
        "'''\n",
        "def recheck_bonus(path: str) -> int:\n",
        "  a,b,c = 0,0,0\n",
        "  t,tot = 1,0\n",
        "  if maze[a][b][c][t]:\n",
        "      tot += 1\n",
        "  for ch in path:\n",
        "      if ch=='R':a+=1\n",
        "      elif ch=='L':a-=1\n",
        "      elif ch=='U':b+=1\n",
        "      elif ch=='D':b-=1\n",
        "      elif ch=='F':c+=1\n",
        "      elif ch=='B':c-=1\n",
        "      t += 1\n",
        "      tot += maze[a][b][c][t]\n",
        "  return tot\n",
        "\n",
        "\n",
        "recheck_bonus(\"RRRRRRRRRRRRURRRRUUFRRRUUUURFBUUBFRFLFLFLFWFBBFWFWUWFDBUDBUWFBBFBBFWFBBFBBFLFWFWFLFWFWULBUWULBFBBFWRWFWFBBFLFDBFDBRWFBBFWFWUWUDDUBBFWUWFWUBBBFLFBBFBBFWFBBFWFWRLBFLFWFWRWFBBFLBRWFBBFLBRLBFDFBBFBBFWFLR\")"
      ],
      "metadata": {
        "colab": {
          "base_uri": "https://localhost:8080/"
        },
        "id": "f7L4LrJDJGvx",
        "outputId": "2009546a-bc17-4727-e297-841654242fc9"
      },
      "execution_count": null,
      "outputs": [
        {
          "output_type": "execute_result",
          "data": {
            "text/plain": [
              "184"
            ]
          },
          "metadata": {},
          "execution_count": 82
        }
      ]
    }
  ]
}