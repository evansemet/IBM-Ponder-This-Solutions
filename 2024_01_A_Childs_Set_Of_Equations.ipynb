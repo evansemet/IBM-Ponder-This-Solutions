{
 "cells": [
  {
   "cell_type": "markdown",
   "metadata": {},
   "source": [
    "## Import Necessary Libraries"
   ]
  },
  {
   "cell_type": "code",
   "execution_count": 76,
   "metadata": {},
   "outputs": [],
   "source": [
    "from z3 import *\n",
    "import numpy as np"
   ]
  },
  {
   "cell_type": "markdown",
   "metadata": {},
   "source": [
    "## Define the Grid"
   ]
  },
  {
   "cell_type": "code",
   "execution_count": 77,
   "metadata": {},
   "outputs": [],
   "source": [
    "row_totals = np.array([ 5,10, 9, 0], dtype=np.int32)\n",
    "col_totals = np.array([17, 8,11,48], dtype=np.int32)\n",
    "\n",
    "row_operations = np.array([[ 1, 1,-1,-1],\n",
    "                           [ 1, 1, 1,-1],\n",
    "                           [ 1,-1, 1, 1],\n",
    "                           [ 1,-1, 1,-1]], dtype=np.int32)\n",
    "\n",
    "col_operations = np.array([[ 1, 1, 1, 1],\n",
    "                           [ 1, 1,-1, 1],\n",
    "                           [ 1,-1,-1, 1],\n",
    "                           [-1,-1, 1, 1]], dtype=np.int32)"
   ]
  },
  {
   "cell_type": "markdown",
   "metadata": {},
   "source": [
    "## Add Constraints and Solve"
   ]
  },
  {
   "cell_type": "code",
   "execution_count": 78,
   "metadata": {},
   "outputs": [
    {
     "name": "stdout",
     "output_type": "stream",
     "text": [
      "84 unique grid arrangements\n",
      "(12, 13, 5, 15, 6, 9, 3, 8, 1, 10, 7, 11, 2, 4, 16, 14)\n"
     ]
    }
   ],
   "source": [
    "grids = set()\n",
    "s = Solver()\n",
    "X = np.array(IntVector(\"x\", 4**2), dtype=object).reshape((4,4))\n",
    "\n",
    "s += Distinct([n for n in X.ravel()])\n",
    "s += [And(1<=n, n<=16) for n in X.ravel()]\n",
    "\n",
    "s += [np.sum(X[i] * row_operations[i]) == r for i,r in enumerate(row_totals)]\n",
    "s += [Sum([X[i,j] * col_operations[i,j] for i in range(X.shape[0])]) == c for j,c in enumerate(col_totals)]\n",
    "\n",
    "while s.check() == sat:\n",
    "    m = s.model()\n",
    "    grid = np.array([[m[X[*idx]].as_long()] for idx,_ in np.ndenumerate(X)])\n",
    "    grids.add(tuple(grid.ravel()))\n",
    "    s += Or([X[*idx] != m[val] for idx,val in np.ndenumerate(X)])\n",
    "else:\n",
    "    print(f\"{len(grids)} unique grid arrangements\")\n",
    "    print(list(grids)[0])"
   ]
  }
 ],
 "metadata": {
  "kernelspec": {
   "display_name": "Python 3",
   "language": "python",
   "name": "python3"
  },
  "language_info": {
   "codemirror_mode": {
    "name": "ipython",
    "version": 3
   },
   "file_extension": ".py",
   "mimetype": "text/x-python",
   "name": "python",
   "nbconvert_exporter": "python",
   "pygments_lexer": "ipython3",
   "version": "3.12.1"
  }
 },
 "nbformat": 4,
 "nbformat_minor": 2
}
